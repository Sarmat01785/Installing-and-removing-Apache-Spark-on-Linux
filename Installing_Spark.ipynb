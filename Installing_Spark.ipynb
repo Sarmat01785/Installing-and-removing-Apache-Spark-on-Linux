{
 "cells": [
  {
   "cell_type": "markdown",
   "metadata": {},
   "source": [
    "# Установка Apache Spark на ALT Workstation K 10.4 (Sorbaronia Mitschurinii)"
   ]
  },
  {
   "cell_type": "markdown",
   "metadata": {},
   "source": [
    "## Шаг 1: Скачивание `Spark`\n",
    "\n",
    "Сначала скачайте последнюю версию Spark с официального сайта `Apache Spark`. Вы можете сделать это, перейдя по [ссылке](https://spark.apache.org/downloads.html) и выбрав последнюю версию Spark."
   ]
  },
  {
   "cell_type": "markdown",
   "metadata": {},
   "source": [
    "## Шаг 2: Проверка загруженного файла Spark\n",
    "\n",
    "Убедитесь, что файл Spark например (`spark-3.5.3-bin-hadoop3.tgz`) был загружен в директорию `/home/executor/Загрузки` или измените на вашу директорию."
   ]
  },
  {
   "cell_type": "markdown",
   "metadata": {},
   "source": [
    "## Шаг 3: Распаковка файла\n",
    "\n",
    "Откройте терминал и перейдите в директорию `Загрузки`:"
   ]
  },
  {
   "cell_type": "markdown",
   "metadata": {},
   "source": [
    "```bash\n",
    "cd /home/executor/Загрузки\n",
    "```"
   ]
  },
  {
   "cell_type": "markdown",
   "metadata": {},
   "source": [
    "Затем разархивируйте скачанный файл с помощью команды `tar`:"
   ]
  },
  {
   "cell_type": "markdown",
   "metadata": {},
   "source": [
    "```bash\n",
    "tar -xvzf spark-3.5.3-bin-hadoop3.tgz\n",
    "```"
   ]
  },
  {
   "cell_type": "markdown",
   "metadata": {},
   "source": [
    "## Шаг 4: Установка Spark\n",
    "\n",
    "После распаковки вы должны переместить разархивированную директорию Spark в `/opt/spark`. Это можно сделать с помощью команды `mv`:"
   ]
  },
  {
   "cell_type": "markdown",
   "metadata": {},
   "source": [
    "```bash\n",
    "sudo mv spark-3.5.3-bin-hadoop3 /opt/spark\n",
    "```"
   ]
  },
  {
   "cell_type": "markdown",
   "metadata": {},
   "source": [
    "## Шаг 5: Обновление переменных окружения\n",
    "\n",
    "Теперь Spark установлен в директории `/opt/spark`. Но вам нужно обновить переменные окружения, чтобы система знала, где искать `Spark`. Для этого нужно обновить файл `.bashrc`. Вы можете открыть этот файл в текстовом редакторе с помощью команды `KWrite` (или любого другого редактора, который вам нравится):"
   ]
  },
  {
   "cell_type": "markdown",
   "metadata": {},
   "source": [
    "```bash\n",
    "KWrite ~/.bashrc\n",
    "```"
   ]
  },
  {
   "cell_type": "markdown",
   "metadata": {},
   "source": [
    "В конец файла нужно следующие строки:"
   ]
  },
  {
   "cell_type": "markdown",
   "metadata": {},
   "source": [
    "```bash\n",
    "export SPARK_HOME=/opt/spark\n",
    "export PATH=$PATH:$SPARK_HOME/bin:$SPARK_HOME/sbin\n",
    "```"
   ]
  },
  {
   "cell_type": "markdown",
   "metadata": {},
   "source": [
    "Затем нужно сохранить файл и выйдти из редактора."
   ]
  },
  {
   "cell_type": "markdown",
   "metadata": {},
   "source": [
    "## Шаг 6: Применение изменений\n",
    "\n",
    "Чтобы обновления вступили в силу, нужно применить изменения в файле `.bashrc`. Это можно сделать, выполнив следующую команду:"
   ]
  },
  {
   "cell_type": "markdown",
   "metadata": {},
   "source": [
    "```bash\n",
    "source ~/.bashrc\n",
    "```"
   ]
  },
  {
   "cell_type": "markdown",
   "metadata": {},
   "source": [
    "## Шаг 7: Проверка установки\n",
    "\n",
    "Теперь у вас должна быть установлена новая версия Spark. Чтобы проверить это, вы можете ввести следующую команду в терминал:"
   ]
  },
  {
   "cell_type": "markdown",
   "metadata": {},
   "source": [
    "```bash\n",
    "spark-submit --version\n",
    "```"
   ]
  },
  {
   "cell_type": "markdown",
   "metadata": {},
   "source": [
    "Это должно показать версию Spark, которую вы только что установили."
   ]
  }
 ],
 "metadata": {
  "kernelspec": {
   "display_name": "Python 3 (ipykernel)",
   "language": "python",
   "name": "python3"
  }
 },
 "nbformat": 4,
 "nbformat_minor": 4
}
