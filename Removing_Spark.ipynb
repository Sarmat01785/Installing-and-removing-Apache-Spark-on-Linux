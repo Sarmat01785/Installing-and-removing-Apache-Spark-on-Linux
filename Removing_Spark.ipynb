{
 "cells": [
  {
   "cell_type": "markdown",
   "metadata": {},
   "source": [
    "# Удаление `Apache Spark` с ALT Workstation K 10.4 (Sorbaronia Mitschurinii)"
   ]
  },
  {
   "cell_type": "markdown",
   "metadata": {},
   "source": [
    "## Шаг 1: Удаление директории `Spark`\n",
    "\n",
    "Для удаления `Spark` нужно просто удалить директорию, в которой он установлен. Обычно Spark устанавливается в `/opt/spark`.\n",
    "\n",
    "Откройте терминал и выполните следующую команду:"
   ]
  },
  {
   "cell_type": "markdown",
   "metadata": {},
   "source": [
    "```bash\n",
    "sudo rm -rf /opt/spark\n",
    "```"
   ]
  },
  {
   "cell_type": "markdown",
   "metadata": {},
   "source": [
    "**Внимание:** Команда `rm -rf` немедленно удалит все файлы и поддиректории в указанной директории без дополнительного подтверждения. Убедитесь, что вы указали правильную директорию и что ее удаление не приведет к потере важных данных."
   ]
  },
  {
   "cell_type": "markdown",
   "metadata": {},
   "source": [
    "## Шаг 2: Обновление переменных окружения\n",
    "\n",
    "После удаления директории Spark, вы должны обновить свои переменные окружения, чтобы они не указывали на удаленную директорию.\n",
    "\n",
    "Откройте файл `.bashrc` в текстовом редакторе:"
   ]
  },
  {
   "cell_type": "markdown",
   "metadata": {},
   "source": [
    "```bash\n",
    "KWrite ~/.bashrc\n",
    "```"
   ]
  },
  {
   "cell_type": "markdown",
   "metadata": {},
   "source": [
    "Найдите и удалите или закомментируйте следующие строки:"
   ]
  },
  {
   "cell_type": "markdown",
   "metadata": {},
   "source": [
    "```bash\n",
    "export SPARK_HOME=/opt/spark\n",
    "export PATH=$PATH:$SPARK_HOME/bin:$SPARK_HOME/sbin\n",
    "```"
   ]
  },
  {
   "cell_type": "markdown",
   "metadata": {},
   "source": [
    "Затем сохраните файл и выйдите из редактора."
   ]
  },
  {
   "cell_type": "markdown",
   "metadata": {},
   "source": [
    "## Шаг 3: Применение изменений\n",
    "\n",
    "Чтобы обновления вступили в силу, нужно применить изменения в файле `.bashrc`. Это можно сделать, выполнив следующую команду:"
   ]
  },
  {
   "cell_type": "markdown",
   "metadata": {},
   "source": [
    "```bash\n",
    "source ~/.bashrc\n",
    "```"
   ]
  },
  {
   "cell_type": "markdown",
   "metadata": {},
   "source": [
    "## Шаг 4: Проверка удаления\n",
    "\n",
    "Теперь `Spark` должен быть удален. Чтобы проверить это, вы можете ввести следующую команду в терминал:"
   ]
  },
  {
   "cell_type": "markdown",
   "metadata": {},
   "source": [
    "```bash\n",
    "spark-submit --version\n",
    "```"
   ]
  },
  {
   "cell_type": "markdown",
   "metadata": {},
   "source": [
    "Если Spark удален, вы получите сообщение об ошибке, указывающее, что команда `spark-submit` не найдена."
   ]
  }
 ],
 "metadata": {
  "kernelspec": {
   "display_name": "Python 3 (ipykernel)",
   "language": "python",
   "name": "python3"
  }
 },
 "nbformat": 4,
 "nbformat_minor": 2
}
